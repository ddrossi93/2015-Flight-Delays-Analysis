{
 "cells": [
  {
   "cell_type": "code",
   "execution_count": 1,
   "metadata": {
    "collapsed": true
   },
   "outputs": [],
   "source": [
    "# import dependencies\n",
    "import os\n",
    "import matplotlib.pyplot as plt\n",
    "from matplotlib import cm\n",
    "import pandas as pd\n",
    "import numpy as np\n",
    "import time\n",
    "import datetime\n",
    "import json\n",
    "import requests as req\n",
    "from citipy import citipy\n",
    "from itertools import cycle, islice"
   ]
  },
  {
   "cell_type": "code",
   "execution_count": 2,
   "metadata": {
    "collapsed": true,
    "scrolled": true
   },
   "outputs": [],
   "source": [
    "# get datasets\n",
    "flights_dataset_path = os.path.join('Data', 'sample_flights.csv')\n",
    "airlines_dataset_path = os.path.join('Data', 'airlines.csv')\n",
    "dataset = pd.read_csv(flights_dataset_path)\n",
    "airport_data = json.load(open('Data/airports.json', 'r'))\n",
    "airlines = pd.read_csv(airlines_dataset_path)"
   ]
  },
  {
   "cell_type": "code",
   "execution_count": 3,
   "metadata": {},
   "outputs": [
    {
     "data": {
      "text/html": [
       "<div>\n",
       "<style>\n",
       "    .dataframe thead tr:only-child th {\n",
       "        text-align: right;\n",
       "    }\n",
       "\n",
       "    .dataframe thead th {\n",
       "        text-align: left;\n",
       "    }\n",
       "\n",
       "    .dataframe tbody tr th {\n",
       "        vertical-align: top;\n",
       "    }\n",
       "</style>\n",
       "<table border=\"1\" class=\"dataframe\">\n",
       "  <thead>\n",
       "    <tr style=\"text-align: right;\">\n",
       "      <th></th>\n",
       "      <th>IATA_CODE</th>\n",
       "      <th>AIRLINE</th>\n",
       "    </tr>\n",
       "  </thead>\n",
       "  <tbody>\n",
       "    <tr>\n",
       "      <th>0</th>\n",
       "      <td>UA</td>\n",
       "      <td>United Air Lines Inc.</td>\n",
       "    </tr>\n",
       "    <tr>\n",
       "      <th>1</th>\n",
       "      <td>AA</td>\n",
       "      <td>American Airlines Inc.</td>\n",
       "    </tr>\n",
       "    <tr>\n",
       "      <th>2</th>\n",
       "      <td>US</td>\n",
       "      <td>US Airways Inc.</td>\n",
       "    </tr>\n",
       "    <tr>\n",
       "      <th>3</th>\n",
       "      <td>F9</td>\n",
       "      <td>Frontier Airlines Inc.</td>\n",
       "    </tr>\n",
       "    <tr>\n",
       "      <th>4</th>\n",
       "      <td>B6</td>\n",
       "      <td>JetBlue Airways</td>\n",
       "    </tr>\n",
       "    <tr>\n",
       "      <th>5</th>\n",
       "      <td>OO</td>\n",
       "      <td>Skywest Airlines Inc.</td>\n",
       "    </tr>\n",
       "    <tr>\n",
       "      <th>6</th>\n",
       "      <td>AS</td>\n",
       "      <td>Alaska Airlines Inc.</td>\n",
       "    </tr>\n",
       "    <tr>\n",
       "      <th>7</th>\n",
       "      <td>NK</td>\n",
       "      <td>Spirit Air Lines</td>\n",
       "    </tr>\n",
       "    <tr>\n",
       "      <th>8</th>\n",
       "      <td>WN</td>\n",
       "      <td>Southwest Airlines Co.</td>\n",
       "    </tr>\n",
       "    <tr>\n",
       "      <th>9</th>\n",
       "      <td>DL</td>\n",
       "      <td>Delta Air Lines Inc.</td>\n",
       "    </tr>\n",
       "    <tr>\n",
       "      <th>10</th>\n",
       "      <td>EV</td>\n",
       "      <td>Atlantic Southeast Airlines</td>\n",
       "    </tr>\n",
       "    <tr>\n",
       "      <th>11</th>\n",
       "      <td>HA</td>\n",
       "      <td>Hawaiian Airlines Inc.</td>\n",
       "    </tr>\n",
       "    <tr>\n",
       "      <th>12</th>\n",
       "      <td>MQ</td>\n",
       "      <td>American Eagle Airlines Inc.</td>\n",
       "    </tr>\n",
       "    <tr>\n",
       "      <th>13</th>\n",
       "      <td>VX</td>\n",
       "      <td>Virgin America</td>\n",
       "    </tr>\n",
       "  </tbody>\n",
       "</table>\n",
       "</div>"
      ],
      "text/plain": [
       "   IATA_CODE                       AIRLINE\n",
       "0         UA         United Air Lines Inc.\n",
       "1         AA        American Airlines Inc.\n",
       "2         US               US Airways Inc.\n",
       "3         F9        Frontier Airlines Inc.\n",
       "4         B6               JetBlue Airways\n",
       "5         OO         Skywest Airlines Inc.\n",
       "6         AS          Alaska Airlines Inc.\n",
       "7         NK              Spirit Air Lines\n",
       "8         WN        Southwest Airlines Co.\n",
       "9         DL          Delta Air Lines Inc.\n",
       "10        EV   Atlantic Southeast Airlines\n",
       "11        HA        Hawaiian Airlines Inc.\n",
       "12        MQ  American Eagle Airlines Inc.\n",
       "13        VX                Virgin America"
      ]
     },
     "execution_count": 3,
     "metadata": {},
     "output_type": "execute_result"
    }
   ],
   "source": [
    "# convert to dataframes\n",
    "flight_df = pd.DataFrame(dataset)\n",
    "airlines_df = pd.DataFrame(airlines)\n",
    "airlines_df.head(30)"
   ]
  },
  {
   "cell_type": "code",
   "execution_count": 4,
   "metadata": {},
   "outputs": [
    {
     "data": {
      "text/html": [
       "<div>\n",
       "<style>\n",
       "    .dataframe thead tr:only-child th {\n",
       "        text-align: right;\n",
       "    }\n",
       "\n",
       "    .dataframe thead th {\n",
       "        text-align: left;\n",
       "    }\n",
       "\n",
       "    .dataframe tbody tr th {\n",
       "        vertical-align: top;\n",
       "    }\n",
       "</style>\n",
       "<table border=\"1\" class=\"dataframe\">\n",
       "  <thead>\n",
       "    <tr style=\"text-align: right;\">\n",
       "      <th></th>\n",
       "      <th>YEAR</th>\n",
       "      <th>MONTH</th>\n",
       "      <th>DAY</th>\n",
       "      <th>DAY_OF_WEEK</th>\n",
       "      <th>AIRLINE</th>\n",
       "      <th>FLIGHT_NUMBER</th>\n",
       "      <th>TAIL_NUMBER</th>\n",
       "      <th>ORIGIN_AIRPORT</th>\n",
       "      <th>DESTINATION_AIRPORT</th>\n",
       "      <th>SCHEDULED_DEPARTURE</th>\n",
       "      <th>...</th>\n",
       "      <th>CANCELLATION_REASON</th>\n",
       "      <th>AIR_SYSTEM_DELAY</th>\n",
       "      <th>SECURITY_DELAY</th>\n",
       "      <th>AIRLINE_DELAY</th>\n",
       "      <th>LATE_AIRCRAFT_DELAY</th>\n",
       "      <th>WEATHER_DELAY</th>\n",
       "      <th>DELAYED</th>\n",
       "      <th>AIRLINE_NAME</th>\n",
       "      <th>DATE</th>\n",
       "      <th>ORIGIN_CITY</th>\n",
       "    </tr>\n",
       "  </thead>\n",
       "  <tbody>\n",
       "    <tr>\n",
       "      <th>0</th>\n",
       "      <td>2015</td>\n",
       "      <td>8</td>\n",
       "      <td>6</td>\n",
       "      <td>4</td>\n",
       "      <td>F9</td>\n",
       "      <td>1389</td>\n",
       "      <td>N943FR</td>\n",
       "      <td>CLE</td>\n",
       "      <td>RSW</td>\n",
       "      <td>1630</td>\n",
       "      <td>...</td>\n",
       "      <td>NaN</td>\n",
       "      <td>42.0</td>\n",
       "      <td>0.0</td>\n",
       "      <td>21.0</td>\n",
       "      <td>3.0</td>\n",
       "      <td>0.0</td>\n",
       "      <td></td>\n",
       "      <td></td>\n",
       "      <td></td>\n",
       "      <td></td>\n",
       "    </tr>\n",
       "    <tr>\n",
       "      <th>1</th>\n",
       "      <td>2015</td>\n",
       "      <td>5</td>\n",
       "      <td>7</td>\n",
       "      <td>4</td>\n",
       "      <td>B6</td>\n",
       "      <td>405</td>\n",
       "      <td>N779JB</td>\n",
       "      <td>BOS</td>\n",
       "      <td>LGB</td>\n",
       "      <td>1720</td>\n",
       "      <td>...</td>\n",
       "      <td>NaN</td>\n",
       "      <td>NaN</td>\n",
       "      <td>NaN</td>\n",
       "      <td>NaN</td>\n",
       "      <td>NaN</td>\n",
       "      <td>NaN</td>\n",
       "      <td></td>\n",
       "      <td></td>\n",
       "      <td></td>\n",
       "      <td></td>\n",
       "    </tr>\n",
       "    <tr>\n",
       "      <th>2</th>\n",
       "      <td>2015</td>\n",
       "      <td>5</td>\n",
       "      <td>8</td>\n",
       "      <td>5</td>\n",
       "      <td>MQ</td>\n",
       "      <td>3416</td>\n",
       "      <td>N628MQ</td>\n",
       "      <td>DFW</td>\n",
       "      <td>BRO</td>\n",
       "      <td>1532</td>\n",
       "      <td>...</td>\n",
       "      <td>NaN</td>\n",
       "      <td>NaN</td>\n",
       "      <td>NaN</td>\n",
       "      <td>NaN</td>\n",
       "      <td>NaN</td>\n",
       "      <td>NaN</td>\n",
       "      <td></td>\n",
       "      <td></td>\n",
       "      <td></td>\n",
       "      <td></td>\n",
       "    </tr>\n",
       "    <tr>\n",
       "      <th>3</th>\n",
       "      <td>2015</td>\n",
       "      <td>11</td>\n",
       "      <td>14</td>\n",
       "      <td>6</td>\n",
       "      <td>WN</td>\n",
       "      <td>2613</td>\n",
       "      <td>N8635F</td>\n",
       "      <td>OAK</td>\n",
       "      <td>PHX</td>\n",
       "      <td>2005</td>\n",
       "      <td>...</td>\n",
       "      <td>NaN</td>\n",
       "      <td>NaN</td>\n",
       "      <td>NaN</td>\n",
       "      <td>NaN</td>\n",
       "      <td>NaN</td>\n",
       "      <td>NaN</td>\n",
       "      <td></td>\n",
       "      <td></td>\n",
       "      <td></td>\n",
       "      <td></td>\n",
       "    </tr>\n",
       "    <tr>\n",
       "      <th>4</th>\n",
       "      <td>2015</td>\n",
       "      <td>1</td>\n",
       "      <td>23</td>\n",
       "      <td>5</td>\n",
       "      <td>OO</td>\n",
       "      <td>5472</td>\n",
       "      <td>N976SW</td>\n",
       "      <td>SPI</td>\n",
       "      <td>ORD</td>\n",
       "      <td>1818</td>\n",
       "      <td>...</td>\n",
       "      <td>NaN</td>\n",
       "      <td>NaN</td>\n",
       "      <td>NaN</td>\n",
       "      <td>NaN</td>\n",
       "      <td>NaN</td>\n",
       "      <td>NaN</td>\n",
       "      <td></td>\n",
       "      <td></td>\n",
       "      <td></td>\n",
       "      <td></td>\n",
       "    </tr>\n",
       "  </tbody>\n",
       "</table>\n",
       "<p>5 rows × 35 columns</p>\n",
       "</div>"
      ],
      "text/plain": [
       "   YEAR  MONTH  DAY  DAY_OF_WEEK AIRLINE  FLIGHT_NUMBER TAIL_NUMBER  \\\n",
       "0  2015      8    6            4      F9           1389      N943FR   \n",
       "1  2015      5    7            4      B6            405      N779JB   \n",
       "2  2015      5    8            5      MQ           3416      N628MQ   \n",
       "3  2015     11   14            6      WN           2613      N8635F   \n",
       "4  2015      1   23            5      OO           5472      N976SW   \n",
       "\n",
       "  ORIGIN_AIRPORT DESTINATION_AIRPORT  SCHEDULED_DEPARTURE     ...       \\\n",
       "0            CLE                 RSW                 1630     ...        \n",
       "1            BOS                 LGB                 1720     ...        \n",
       "2            DFW                 BRO                 1532     ...        \n",
       "3            OAK                 PHX                 2005     ...        \n",
       "4            SPI                 ORD                 1818     ...        \n",
       "\n",
       "   CANCELLATION_REASON  AIR_SYSTEM_DELAY  SECURITY_DELAY  AIRLINE_DELAY  \\\n",
       "0                  NaN              42.0             0.0           21.0   \n",
       "1                  NaN               NaN             NaN            NaN   \n",
       "2                  NaN               NaN             NaN            NaN   \n",
       "3                  NaN               NaN             NaN            NaN   \n",
       "4                  NaN               NaN             NaN            NaN   \n",
       "\n",
       "   LATE_AIRCRAFT_DELAY  WEATHER_DELAY  DELAYED  AIRLINE_NAME  DATE  \\\n",
       "0                  3.0            0.0                                \n",
       "1                  NaN            NaN                                \n",
       "2                  NaN            NaN                                \n",
       "3                  NaN            NaN                                \n",
       "4                  NaN            NaN                                \n",
       "\n",
       "   ORIGIN_CITY  \n",
       "0               \n",
       "1               \n",
       "2               \n",
       "3               \n",
       "4               \n",
       "\n",
       "[5 rows x 35 columns]"
      ]
     },
     "execution_count": 4,
     "metadata": {},
     "output_type": "execute_result"
    }
   ],
   "source": [
    "# add delayed column to show if flight was delayed (1) or not (0)\n",
    "flight_df['DELAYED'] = ''\n",
    "# add column for the full airline name\n",
    "flight_df['AIRLINE_NAME'] = ''\n",
    "# add column for the date\n",
    "flight_df['DATE'] = ''\n",
    "# columns for city name\n",
    "flight_df['ORIGIN_CITY'] = ''\n",
    "flight_df.head()"
   ]
  },
  {
   "cell_type": "code",
   "execution_count": 5,
   "metadata": {
    "collapsed": true
   },
   "outputs": [],
   "source": [
    "# turn the airport_data json into a dictionary of airport code and city\n",
    "airport_city_code = {}\n",
    "for key in airport_data:\n",
    "    airport_city_code[key['code']] = key['city']"
   ]
  },
  {
   "cell_type": "code",
   "execution_count": 6,
   "metadata": {
    "collapsed": true
   },
   "outputs": [],
   "source": [
    "#create a function to return the airport city name based off airport code\n",
    "def get_city_from(airport_code):\n",
    "    return airport_city_code.get(airport_code, \"N/A\")"
   ]
  },
  {
   "cell_type": "code",
   "execution_count": 7,
   "metadata": {
    "collapsed": true
   },
   "outputs": [],
   "source": [
    "# apply the get city function to the flight df\n",
    "flight_df['ORIGIN_CITY'] = flight_df['ORIGIN_AIRPORT'].apply(get_city_from)"
   ]
  },
  {
   "cell_type": "code",
   "execution_count": 8,
   "metadata": {
    "collapsed": true
   },
   "outputs": [],
   "source": [
    "# set Delayed column if flight was delayed\n",
    "for index, row in flight_df.iterrows():\n",
    "    if(pd.isnull(row['ARRIVAL_DELAY']) > 0):\n",
    "        flight_df.set_value(index, 'DELAYED', 1)\n",
    "    \n",
    "    date = str(row['MONTH']) + '/' + str(row['DAY']) + '/' + str(row['YEAR'])\n",
    "    \n",
    "    flight_df.set_value(index, 'DATE', date)"
   ]
  },
  {
   "cell_type": "code",
   "execution_count": 9,
   "metadata": {},
   "outputs": [],
   "source": [
    "# get average stats for each airline\n",
    "avg_airline_stats_df = flight_df.groupby('AIRLINE').mean()"
   ]
  },
  {
   "cell_type": "code",
   "execution_count": 10,
   "metadata": {},
   "outputs": [],
   "source": [
    "# get only the ARRIVAL_DELAY column since that is all that is analyzed\n",
    "avg_airline_stats_df = avg_airline_stats_df['ARRIVAL_DELAY']"
   ]
  },
  {
   "cell_type": "code",
   "execution_count": 11,
   "metadata": {},
   "outputs": [
    {
     "data": {
      "text/plain": [
       "AIRLINE\n",
       "AA     3.487575\n",
       "AS    -0.624533\n",
       "B6     7.530677\n",
       "DL    -0.518345\n",
       "EV     5.737621\n",
       "F9    13.617666\n",
       "HA     3.022364\n",
       "MQ     5.436596\n",
       "NK    13.536943\n",
       "OO     5.723795\n",
       "UA     5.097633\n",
       "US     4.058160\n",
       "VX     3.549749\n",
       "WN     4.541312\n",
       "Name: ARRIVAL_DELAY, dtype: float64"
      ]
     },
     "execution_count": 11,
     "metadata": {},
     "output_type": "execute_result"
    }
   ],
   "source": [
    "avg_airline_stats_df"
   ]
  },
  {
   "cell_type": "code",
   "execution_count": 12,
   "metadata": {
    "collapsed": true
   },
   "outputs": [],
   "source": [
    "# get x and y values\n",
    "x = avg_airline_stats_df.index\n",
    "x_ticks = x.values\n",
    "x = np.arange(0,len(x_ticks))\n",
    "y = avg_airline_stats_df.values"
   ]
  },
  {
   "cell_type": "code",
   "execution_count": 13,
   "metadata": {
    "scrolled": true
   },
   "outputs": [
    {
     "data": {
      "image/png": "[encoded data removed]",
      "text/plain": [
       "<matplotlib.figure.Figure at 0x10e1e2e48>"
      ]
     },
     "metadata": {},
     "output_type": "display_data"
    }
   ],
   "source": [
    "# create bar chart of delays by airline. \n",
    "plt.xticks(x, x_ticks)\n",
    "chart = plt.bar(x, y)\n",
    "plt.title(\"Average Delay by Airline in 2015\")\n",
    "plt.xlabel(\"Airline\")\n",
    "plt.ylabel(\"Average Arrival Delay\")\n",
    "chart[1].set_color('g')\n",
    "chart[5].set_color('r')\n",
    "plt.savefig('Images/Arrival_Delay_by_airline.png')\n",
    "plt.show()"
   ]
  },
  {
   "cell_type": "code",
   "execution_count": 14,
   "metadata": {},
   "outputs": [
    {
     "data": {
      "text/plain": [
       "AIRLINE\n",
       "AA    12619\n",
       "AS     2965\n",
       "B6     4510\n",
       "DL    15006\n",
       "EV     9826\n",
       "F9     1595\n",
       "HA     1256\n",
       "MQ     5108\n",
       "NK     2018\n",
       "OO     9946\n",
       "UA     8955\n",
       "US     3446\n",
       "VX     1004\n",
       "WN    21746\n",
       "Name: YEAR, dtype: int64"
      ]
     },
     "execution_count": 14,
     "metadata": {},
     "output_type": "execute_result"
    }
   ],
   "source": [
    "# get total stats for each airline\n",
    "total_airline_stats_df = flight_df.groupby('AIRLINE').count()\n",
    "# get total number of flights for each airline\n",
    "total_flights = total_airline_stats_df['YEAR']\n",
    "total_flights"
   ]
  },
  {
   "cell_type": "code",
   "execution_count": 15,
   "metadata": {
    "collapsed": true
   },
   "outputs": [],
   "source": [
    "# get x and y values\n",
    "x = total_flights.index\n",
    "x_ticks = x.values\n",
    "x = np.arange(0,len(x_ticks))\n",
    "y = total_flights.values"
   ]
  },
  {
   "cell_type": "code",
   "execution_count": 16,
   "metadata": {},
   "outputs": [
    {
     "data": {
      "image/png": "[encoded data removed]",
      "text/plain": [
       "<matplotlib.figure.Figure at 0x11b9a9da0>"
      ]
     },
     "metadata": {},
     "output_type": "display_data"
    }
   ],
   "source": [
    "# create bar chart of delays by airline. \n",
    "plt.xticks(x, x_ticks)\n",
    "chart = plt.bar(x, y)\n",
    "plt.title(\"Total Flights by Airline in 2015\")\n",
    "plt.xlabel(\"Airline\")\n",
    "plt.ylabel(\"# of Flights\")\n",
    "chart[13].set_color('g')\n",
    "chart[12].set_color('r')\n",
    "plt.savefig('Images/total_flights_by_airline.png')\n",
    "plt.show()"
   ]
  },
  {
   "cell_type": "code",
   "execution_count": 17,
   "metadata": {
    "scrolled": true
   },
   "outputs": [],
   "source": [
    "# get average stats for each month\n",
    "avg_month_stats_df = flight_df.groupby('MONTH').mean()\n",
    "avg_month_stats_df = avg_month_stats_df['ARRIVAL_DELAY']"
   ]
  },
  {
   "cell_type": "code",
   "execution_count": 18,
   "metadata": {},
   "outputs": [],
   "source": [
    "# get x and y values\n",
    "month = ['Jan', 'Feb', 'Mar', 'Apr', 'May', 'June', 'July', 'Aug', 'Sep', 'Oct', 'Nov', 'Dec']\n",
    "x = np.arange(0,len(month))\n",
    "y = avg_month_stats_df.values"
   ]
  },
  {
   "cell_type": "code",
   "execution_count": 19,
   "metadata": {},
   "outputs": [
    {
     "data": {
      "image/png": "[encoded data removed]",
      "text/plain": [
       "<matplotlib.figure.Figure at 0x11be8ccf8>"
      ]
     },
     "metadata": {},
     "output_type": "display_data"
    }
   ],
   "source": [
    "# create bar chart of delays by month. \n",
    "plt.xticks(x, month)\n",
    "chart = plt.bar(x, y)\n",
    "plt.title(\"Average Arrival Delay by Month in 2015\")\n",
    "plt.xlabel(\"Month\")\n",
    "plt.ylabel(\"Average Arrival Delay\")\n",
    "chart[8].set_color('g')\n",
    "chart[5].set_color('r')\n",
    "plt.savefig('Images/Arrival_delay_by_month.png')\n",
    "plt.show()"
   ]
  },
  {
   "cell_type": "code",
   "execution_count": 20,
   "metadata": {},
   "outputs": [],
   "source": [
    "#count the flights per month to see peak demand\n",
    "month_stats_totals_df = flight_df.groupby('MONTH').count()\n",
    "# narrow it down to only the arline row because that row is always filled and therefore will always be counted\n",
    "month_stats_totals_df = month_stats_totals_df['AIRLINE']"
   ]
  },
  {
   "cell_type": "code",
   "execution_count": 21,
   "metadata": {
    "collapsed": true
   },
   "outputs": [],
   "source": [
    "# get x and y values\n",
    "month = ['Jan', 'Feb', 'Mar', 'Apr', 'May', 'June', 'July', 'Aug', 'Sep', 'Oct', 'Nov', 'Dec']\n",
    "x = np.arange(0,len(month))\n",
    "y = month_stats_totals_df.values"
   ]
  },
  {
   "cell_type": "code",
   "execution_count": 22,
   "metadata": {},
   "outputs": [
    {
     "data": {
      "image/png": "[encoded data removed]",
      "text/plain": [
       "<matplotlib.figure.Figure at 0x11bed9f98>"
      ]
     },
     "metadata": {},
     "output_type": "display_data"
    }
   ],
   "source": [
    "# create bar chart of delays by month. \n",
    "# TODO: fix y-scale for chart\n",
    "# TODO: highlight max and min\n",
    "plt.xticks(x, month)\n",
    "chart = plt.bar(x, y)\n",
    "plt.title(\"# of Flights by Month in 2015\")\n",
    "plt.xlabel(\"Month\")\n",
    "plt.ylabel(\"# of Flights\")\n",
    "chart[6].set_color('g')\n",
    "chart[1].set_color('r')\n",
    "axes = plt.gca()\n",
    "axes.set_ylim([6000,9500])\n",
    "plt.savefig('Images/flights_by_month.png')\n",
    "plt.show()"
   ]
  },
  {
   "cell_type": "code",
   "execution_count": 23,
   "metadata": {},
   "outputs": [
    {
     "data": {
      "text/plain": [
       "DAY_OF_WEEK\n",
       "1    5.916568\n",
       "2    3.897130\n",
       "3    3.661053\n",
       "4    5.492151\n",
       "5    4.944630\n",
       "6    1.779753\n",
       "7    3.427494\n",
       "Name: ARRIVAL_DELAY, dtype: float64"
      ]
     },
     "execution_count": 23,
     "metadata": {},
     "output_type": "execute_result"
    }
   ],
   "source": [
    "# get average stats for each day\n",
    "avg_day_stats_df = flight_df.groupby('DAY_OF_WEEK').mean()\n",
    "avg_day_stats_df = avg_day_stats_df['ARRIVAL_DELAY']\n",
    "avg_day_stats_df"
   ]
  },
  {
   "cell_type": "code",
   "execution_count": 24,
   "metadata": {
    "collapsed": true
   },
   "outputs": [],
   "source": [
    "# get x and y values\n",
    "day_of_week = ['MON', 'TUE', 'WED', 'THU', 'FRI', 'SAT', 'SUN']\n",
    "x = np.arange(0,len(day_of_week))\n",
    "y = avg_day_stats_df.values"
   ]
  },
  {
   "cell_type": "code",
   "execution_count": 25,
   "metadata": {},
   "outputs": [
    {
     "data": {
      "image/png": "[encoded data removed]",
      "text/plain": [
       "<matplotlib.figure.Figure at 0x11bea1208>"
      ]
     },
     "metadata": {},
     "output_type": "display_data"
    }
   ],
   "source": [
    "plt.xticks(x, day_of_week)\n",
    "chart = plt.bar(x, y)\n",
    "plt.title(\"Average Arrival Delay by Day of Week in 2015\")\n",
    "plt.xlabel(\"Day of Week\")\n",
    "plt.ylabel(\"Average Arrival Delay\")\n",
    "chart[5].set_color('g')\n",
    "chart[0].set_color('r')\n",
    "plt.savefig('Images/avg_delay_by_day_of_week.png')\n",
    "plt.show()"
   ]
  },
  {
   "cell_type": "code",
   "execution_count": 26,
   "metadata": {},
   "outputs": [
    {
     "data": {
      "text/html": [
       "<div>\n",
       "<style>\n",
       "    .dataframe thead tr:only-child th {\n",
       "        text-align: right;\n",
       "    }\n",
       "\n",
       "    .dataframe thead th {\n",
       "        text-align: left;\n",
       "    }\n",
       "\n",
       "    .dataframe tbody tr th {\n",
       "        vertical-align: top;\n",
       "    }\n",
       "</style>\n",
       "<table border=\"1\" class=\"dataframe\">\n",
       "  <thead>\n",
       "    <tr style=\"text-align: right;\">\n",
       "      <th></th>\n",
       "      <th>YEAR</th>\n",
       "      <th>MONTH</th>\n",
       "      <th>DAY</th>\n",
       "      <th>DAY_OF_WEEK</th>\n",
       "      <th>AIRLINE</th>\n",
       "      <th>FLIGHT_NUMBER</th>\n",
       "      <th>TAIL_NUMBER</th>\n",
       "      <th>ORIGIN_AIRPORT</th>\n",
       "      <th>DESTINATION_AIRPORT</th>\n",
       "      <th>SCHEDULED_DEPARTURE</th>\n",
       "      <th>...</th>\n",
       "      <th>CANCELLATION_REASON</th>\n",
       "      <th>AIR_SYSTEM_DELAY</th>\n",
       "      <th>SECURITY_DELAY</th>\n",
       "      <th>AIRLINE_DELAY</th>\n",
       "      <th>LATE_AIRCRAFT_DELAY</th>\n",
       "      <th>WEATHER_DELAY</th>\n",
       "      <th>DELAYED</th>\n",
       "      <th>AIRLINE_NAME</th>\n",
       "      <th>DATE</th>\n",
       "      <th>ORIGIN_CITY</th>\n",
       "    </tr>\n",
       "  </thead>\n",
       "  <tbody>\n",
       "    <tr>\n",
       "      <th>2</th>\n",
       "      <td>2015</td>\n",
       "      <td>5</td>\n",
       "      <td>8</td>\n",
       "      <td>5</td>\n",
       "      <td>MQ</td>\n",
       "      <td>3416</td>\n",
       "      <td>N628MQ</td>\n",
       "      <td>DFW</td>\n",
       "      <td>BRO</td>\n",
       "      <td>1532</td>\n",
       "      <td>...</td>\n",
       "      <td>NaN</td>\n",
       "      <td>NaN</td>\n",
       "      <td>NaN</td>\n",
       "      <td>NaN</td>\n",
       "      <td>NaN</td>\n",
       "      <td>NaN</td>\n",
       "      <td></td>\n",
       "      <td></td>\n",
       "      <td>5/8/2015</td>\n",
       "      <td>Dallas</td>\n",
       "    </tr>\n",
       "    <tr>\n",
       "      <th>7</th>\n",
       "      <td>2015</td>\n",
       "      <td>8</td>\n",
       "      <td>16</td>\n",
       "      <td>7</td>\n",
       "      <td>DL</td>\n",
       "      <td>1105</td>\n",
       "      <td>N1402A</td>\n",
       "      <td>ATL</td>\n",
       "      <td>SLC</td>\n",
       "      <td>825</td>\n",
       "      <td>...</td>\n",
       "      <td>NaN</td>\n",
       "      <td>NaN</td>\n",
       "      <td>NaN</td>\n",
       "      <td>NaN</td>\n",
       "      <td>NaN</td>\n",
       "      <td>NaN</td>\n",
       "      <td></td>\n",
       "      <td></td>\n",
       "      <td>8/16/2015</td>\n",
       "      <td>Atlanta</td>\n",
       "    </tr>\n",
       "    <tr>\n",
       "      <th>8</th>\n",
       "      <td>2015</td>\n",
       "      <td>8</td>\n",
       "      <td>26</td>\n",
       "      <td>3</td>\n",
       "      <td>UA</td>\n",
       "      <td>618</td>\n",
       "      <td>N451UA</td>\n",
       "      <td>SFO</td>\n",
       "      <td>DEN</td>\n",
       "      <td>940</td>\n",
       "      <td>...</td>\n",
       "      <td>NaN</td>\n",
       "      <td>NaN</td>\n",
       "      <td>NaN</td>\n",
       "      <td>NaN</td>\n",
       "      <td>NaN</td>\n",
       "      <td>NaN</td>\n",
       "      <td></td>\n",
       "      <td></td>\n",
       "      <td>8/26/2015</td>\n",
       "      <td>San Francisco</td>\n",
       "    </tr>\n",
       "    <tr>\n",
       "      <th>10</th>\n",
       "      <td>2015</td>\n",
       "      <td>3</td>\n",
       "      <td>29</td>\n",
       "      <td>7</td>\n",
       "      <td>OO</td>\n",
       "      <td>5591</td>\n",
       "      <td>N125SY</td>\n",
       "      <td>ORD</td>\n",
       "      <td>DCA</td>\n",
       "      <td>1200</td>\n",
       "      <td>...</td>\n",
       "      <td>NaN</td>\n",
       "      <td>NaN</td>\n",
       "      <td>NaN</td>\n",
       "      <td>NaN</td>\n",
       "      <td>NaN</td>\n",
       "      <td>NaN</td>\n",
       "      <td></td>\n",
       "      <td></td>\n",
       "      <td>3/29/2015</td>\n",
       "      <td>Chicago</td>\n",
       "    </tr>\n",
       "    <tr>\n",
       "      <th>13</th>\n",
       "      <td>2015</td>\n",
       "      <td>8</td>\n",
       "      <td>5</td>\n",
       "      <td>3</td>\n",
       "      <td>AA</td>\n",
       "      <td>293</td>\n",
       "      <td>N785AA</td>\n",
       "      <td>JFK</td>\n",
       "      <td>LAX</td>\n",
       "      <td>1945</td>\n",
       "      <td>...</td>\n",
       "      <td>NaN</td>\n",
       "      <td>0.0</td>\n",
       "      <td>0.0</td>\n",
       "      <td>2.0</td>\n",
       "      <td>78.0</td>\n",
       "      <td>0.0</td>\n",
       "      <td></td>\n",
       "      <td></td>\n",
       "      <td>8/5/2015</td>\n",
       "      <td>Jamaica</td>\n",
       "    </tr>\n",
       "  </tbody>\n",
       "</table>\n",
       "<p>5 rows × 35 columns</p>\n",
       "</div>"
      ],
      "text/plain": [
       "    YEAR  MONTH  DAY  DAY_OF_WEEK AIRLINE  FLIGHT_NUMBER TAIL_NUMBER  \\\n",
       "2   2015      5    8            5      MQ           3416      N628MQ   \n",
       "7   2015      8   16            7      DL           1105      N1402A   \n",
       "8   2015      8   26            3      UA            618      N451UA   \n",
       "10  2015      3   29            7      OO           5591      N125SY   \n",
       "13  2015      8    5            3      AA            293      N785AA   \n",
       "\n",
       "   ORIGIN_AIRPORT DESTINATION_AIRPORT  SCHEDULED_DEPARTURE      ...        \\\n",
       "2             DFW                 BRO                 1532      ...         \n",
       "7             ATL                 SLC                  825      ...         \n",
       "8             SFO                 DEN                  940      ...         \n",
       "10            ORD                 DCA                 1200      ...         \n",
       "13            JFK                 LAX                 1945      ...         \n",
       "\n",
       "    CANCELLATION_REASON  AIR_SYSTEM_DELAY  SECURITY_DELAY  AIRLINE_DELAY  \\\n",
       "2                   NaN               NaN             NaN            NaN   \n",
       "7                   NaN               NaN             NaN            NaN   \n",
       "8                   NaN               NaN             NaN            NaN   \n",
       "10                  NaN               NaN             NaN            NaN   \n",
       "13                  NaN               0.0             0.0            2.0   \n",
       "\n",
       "    LATE_AIRCRAFT_DELAY  WEATHER_DELAY  DELAYED  AIRLINE_NAME       DATE  \\\n",
       "2                   NaN            NaN                          5/8/2015   \n",
       "7                   NaN            NaN                         8/16/2015   \n",
       "8                   NaN            NaN                         8/26/2015   \n",
       "10                  NaN            NaN                         3/29/2015   \n",
       "13                 78.0            0.0                          8/5/2015   \n",
       "\n",
       "      ORIGIN_CITY  \n",
       "2          Dallas  \n",
       "7         Atlanta  \n",
       "8   San Francisco  \n",
       "10        Chicago  \n",
       "13        Jamaica  \n",
       "\n",
       "[5 rows x 35 columns]"
      ]
     },
     "execution_count": 26,
     "metadata": {},
     "output_type": "execute_result"
    }
   ],
   "source": [
    "#Subsetting the data to 10 airports with the most traffic\n",
    "pop_airport_flight_df = flight_df.loc[(flight_df['ORIGIN_AIRPORT'] == 'ATL') | (flight_df['ORIGIN_AIRPORT'] == 'LAX') | \n",
    "                           (flight_df['ORIGIN_AIRPORT'] == 'ORD') | (flight_df['ORIGIN_AIRPORT'] == 'DFW') |\n",
    "                           (flight_df['ORIGIN_AIRPORT'] == 'JFK') | (flight_df['ORIGIN_AIRPORT'] == 'DEN') |\n",
    "                           (flight_df['ORIGIN_AIRPORT'] == 'SFO') | (flight_df['ORIGIN_AIRPORT'] == 'LAS') |\n",
    "                           (flight_df['ORIGIN_AIRPORT'] == 'CLT') | (flight_df['ORIGIN_AIRPORT'] == 'SEA')]\n",
    "pop_airport_flight_df.head()"
   ]
  },
  {
   "cell_type": "code",
   "execution_count": 27,
   "metadata": {},
   "outputs": [
    {
     "data": {
      "text/plain": [
       "ORIGIN_CITY\n",
       "Atlanta          1.836744\n",
       "Charlotte        4.010926\n",
       "Chicago          8.013762\n",
       "Dallas           6.343409\n",
       "Denver           6.628857\n",
       "Jamaica          3.994118\n",
       "Las Vegas        6.482057\n",
       "Los Angeles      5.723887\n",
       "San Francisco    5.026240\n",
       "Seattle          1.876279\n",
       "Name: ARRIVAL_DELAY, dtype: float64"
      ]
     },
     "execution_count": 27,
     "metadata": {},
     "output_type": "execute_result"
    }
   ],
   "source": [
    "avg_airport_stats_df = pop_airport_flight_df.groupby('ORIGIN_CITY').mean()\n",
    "avg_airport_stats_df = avg_airport_stats_df['ARRIVAL_DELAY']\n",
    "avg_airport_stats_df"
   ]
  },
  {
   "cell_type": "code",
   "execution_count": 28,
   "metadata": {
    "collapsed": true
   },
   "outputs": [],
   "source": [
    "# get x and y values\n",
    "x = avg_airport_stats_df.index\n",
    "x_ticks = ['ATL', 'CLT', 'ORD', 'DFW', 'DEN', 'JFK', 'LAS', 'LAX', 'SFO', 'SEA']\n",
    "x = np.arange(0,len(x_ticks))\n",
    "y = avg_airport_stats_df.values"
   ]
  },
  {
   "cell_type": "code",
   "execution_count": 29,
   "metadata": {},
   "outputs": [
    {
     "data": {
      "image/png": "[encoded data removed]",
      "text/plain": [
       "<matplotlib.figure.Figure at 0x11bf0f668>"
      ]
     },
     "metadata": {},
     "output_type": "display_data"
    }
   ],
   "source": [
    "plt.xticks(x, x_ticks)\n",
    "chart = plt.bar(x, y)\n",
    "plt.title(\"Average Arrial Delay by Origin Airport in 2015\")\n",
    "plt.xlabel(\"Origin Airport\")\n",
    "plt.ylabel(\"Average Arrival Delay\")\n",
    "chart[0].set_color('g')\n",
    "chart[2].set_color('r')\n",
    "plt.savefig('Images/arrival_delay_by_airport.png')\n",
    "plt.show()"
   ]
  },
  {
   "cell_type": "code",
   "execution_count": 30,
   "metadata": {},
   "outputs": [
    {
     "data": {
      "text/plain": [
       "ORIGIN_CITY\n",
       "Atlanta          6622\n",
       "Charlotte        1955\n",
       "Chicago          5312\n",
       "Dallas           4432\n",
       "Denver           3644\n",
       "Jamaica          1734\n",
       "Las Vegas        2541\n",
       "Los Angeles      3622\n",
       "San Francisco    2847\n",
       "Seattle          2067\n",
       "Name: YEAR, dtype: int64"
      ]
     },
     "execution_count": 30,
     "metadata": {},
     "output_type": "execute_result"
    }
   ],
   "source": [
    "total_airport_stats_df = pop_airport_flight_df.groupby('ORIGIN_CITY').count()\n",
    "popular_airport_flights = total_airport_stats_df['YEAR']\n",
    "popular_airport_flights"
   ]
  },
  {
   "cell_type": "code",
   "execution_count": 31,
   "metadata": {
    "collapsed": true
   },
   "outputs": [],
   "source": [
    "x = np.arange(0,len(x_ticks))\n",
    "y = popular_airport_flights.values"
   ]
  },
  {
   "cell_type": "code",
   "execution_count": 32,
   "metadata": {},
   "outputs": [
    {
     "data": {
      "image/png": "[encoded data removed]",
      "text/plain": [
       "<matplotlib.figure.Figure at 0x11bf92f98>"
      ]
     },
     "metadata": {},
     "output_type": "display_data"
    }
   ],
   "source": [
    "plt.xticks(x, x_ticks)\n",
    "chart = plt.bar(x, y)\n",
    "plt.title(\"Total Flights by Origin Airport in 2015\")\n",
    "plt.xlabel(\"Origin Airport\")\n",
    "plt.ylabel(\"Total Flights\")\n",
    "chart[0].set_color('g')\n",
    "chart[5].set_color('r')\n",
    "plt.savefig('Images/total_flights_by_airport.png')\n",
    "plt.show()"
   ]
  },
  {
   "cell_type": "code",
   "execution_count": null,
   "metadata": {
    "collapsed": true
   },
   "outputs": [],
   "source": []
  }
 ],
 "metadata": {
  "kernelspec": {
   "display_name": "Python 3",
   "language": "python",
   "name": "python3"
  },
  "language_info": {
   "codemirror_mode": {
    "name": "ipython",
    "version": 3
   },
   "file_extension": ".py",
   "mimetype": "text/x-python",
   "name": "python",
   "nbconvert_exporter": "python",
   "pygments_lexer": "ipython3",
   "version": "3.6.1"
  }
 },
 "nbformat": 4,
 "nbformat_minor": 2
}
