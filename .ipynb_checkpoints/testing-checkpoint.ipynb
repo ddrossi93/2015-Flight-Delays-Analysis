{
 "cells": [
  {
   "cell_type": "code",
   "execution_count": 1,
   "metadata": {
    "collapsed": true
   },
   "outputs": [],
   "source": [
    "# import dependencies\n",
    "import os\n",
    "import matplotlib.pyplot as plt\n",
    "import pandas as pd\n",
    "import numpy as np\n",
    "import json"
   ]
  },
  {
   "cell_type": "code",
   "execution_count": 2,
   "metadata": {
    "collapsed": true,
    "scrolled": true
   },
   "outputs": [],
   "source": [
    "# get datasets\n",
    "flights_dataset_path = os.path.join('Data', 'sample_flights.csv')\n",
    "dataset = pd.read_csv(flights_dataset_path)\n",
    "airport_data = json.load(open('Data/airports.json', 'r'))"
   ]
  },
  {
   "cell_type": "code",
   "execution_count": 3,
   "metadata": {},
   "outputs": [],
   "source": [
    "# convert to dataframes\n",
    "flight_df = pd.DataFrame(dataset)"
   ]
  },
  {
   "cell_type": "code",
   "execution_count": 4,
   "metadata": {},
   "outputs": [
    {
     "data": {
      "text/html": [
       "<div>\n",
       "<style>\n",
       "    .dataframe thead tr:only-child th {\n",
       "        text-align: right;\n",
       "    }\n",
       "\n",
       "    .dataframe thead th {\n",
       "        text-align: left;\n",
       "    }\n",
       "\n",
       "    .dataframe tbody tr th {\n",
       "        vertical-align: top;\n",
       "    }\n",
       "</style>\n",
       "<table border=\"1\" class=\"dataframe\">\n",
       "  <thead>\n",
       "    <tr style=\"text-align: right;\">\n",
       "      <th></th>\n",
       "      <th>YEAR</th>\n",
       "      <th>MONTH</th>\n",
       "      <th>DAY</th>\n",
       "      <th>DAY_OF_WEEK</th>\n",
       "      <th>AIRLINE</th>\n",
       "      <th>FLIGHT_NUMBER</th>\n",
       "      <th>TAIL_NUMBER</th>\n",
       "      <th>ORIGIN_AIRPORT</th>\n",
       "      <th>DESTINATION_AIRPORT</th>\n",
       "      <th>SCHEDULED_DEPARTURE</th>\n",
       "      <th>...</th>\n",
       "      <th>DIVERTED</th>\n",
       "      <th>CANCELLED</th>\n",
       "      <th>CANCELLATION_REASON</th>\n",
       "      <th>AIR_SYSTEM_DELAY</th>\n",
       "      <th>SECURITY_DELAY</th>\n",
       "      <th>AIRLINE_DELAY</th>\n",
       "      <th>LATE_AIRCRAFT_DELAY</th>\n",
       "      <th>WEATHER_DELAY</th>\n",
       "      <th>DATE</th>\n",
       "      <th>ORIGIN_CITY</th>\n",
       "    </tr>\n",
       "  </thead>\n",
       "  <tbody>\n",
       "    <tr>\n",
       "      <th>0</th>\n",
       "      <td>2015</td>\n",
       "      <td>8</td>\n",
       "      <td>6</td>\n",
       "      <td>4</td>\n",
       "      <td>F9</td>\n",
       "      <td>1389</td>\n",
       "      <td>N943FR</td>\n",
       "      <td>CLE</td>\n",
       "      <td>RSW</td>\n",
       "      <td>1630</td>\n",
       "      <td>...</td>\n",
       "      <td>0</td>\n",
       "      <td>0</td>\n",
       "      <td>NaN</td>\n",
       "      <td>42.0</td>\n",
       "      <td>0.0</td>\n",
       "      <td>21.0</td>\n",
       "      <td>3.0</td>\n",
       "      <td>0.0</td>\n",
       "      <td></td>\n",
       "      <td></td>\n",
       "    </tr>\n",
       "    <tr>\n",
       "      <th>1</th>\n",
       "      <td>2015</td>\n",
       "      <td>5</td>\n",
       "      <td>7</td>\n",
       "      <td>4</td>\n",
       "      <td>B6</td>\n",
       "      <td>405</td>\n",
       "      <td>N779JB</td>\n",
       "      <td>BOS</td>\n",
       "      <td>LGB</td>\n",
       "      <td>1720</td>\n",
       "      <td>...</td>\n",
       "      <td>0</td>\n",
       "      <td>0</td>\n",
       "      <td>NaN</td>\n",
       "      <td>NaN</td>\n",
       "      <td>NaN</td>\n",
       "      <td>NaN</td>\n",
       "      <td>NaN</td>\n",
       "      <td>NaN</td>\n",
       "      <td></td>\n",
       "      <td></td>\n",
       "    </tr>\n",
       "    <tr>\n",
       "      <th>2</th>\n",
       "      <td>2015</td>\n",
       "      <td>5</td>\n",
       "      <td>8</td>\n",
       "      <td>5</td>\n",
       "      <td>MQ</td>\n",
       "      <td>3416</td>\n",
       "      <td>N628MQ</td>\n",
       "      <td>DFW</td>\n",
       "      <td>BRO</td>\n",
       "      <td>1532</td>\n",
       "      <td>...</td>\n",
       "      <td>0</td>\n",
       "      <td>0</td>\n",
       "      <td>NaN</td>\n",
       "      <td>NaN</td>\n",
       "      <td>NaN</td>\n",
       "      <td>NaN</td>\n",
       "      <td>NaN</td>\n",
       "      <td>NaN</td>\n",
       "      <td></td>\n",
       "      <td></td>\n",
       "    </tr>\n",
       "    <tr>\n",
       "      <th>3</th>\n",
       "      <td>2015</td>\n",
       "      <td>11</td>\n",
       "      <td>14</td>\n",
       "      <td>6</td>\n",
       "      <td>WN</td>\n",
       "      <td>2613</td>\n",
       "      <td>N8635F</td>\n",
       "      <td>OAK</td>\n",
       "      <td>PHX</td>\n",
       "      <td>2005</td>\n",
       "      <td>...</td>\n",
       "      <td>0</td>\n",
       "      <td>0</td>\n",
       "      <td>NaN</td>\n",
       "      <td>NaN</td>\n",
       "      <td>NaN</td>\n",
       "      <td>NaN</td>\n",
       "      <td>NaN</td>\n",
       "      <td>NaN</td>\n",
       "      <td></td>\n",
       "      <td></td>\n",
       "    </tr>\n",
       "    <tr>\n",
       "      <th>4</th>\n",
       "      <td>2015</td>\n",
       "      <td>1</td>\n",
       "      <td>23</td>\n",
       "      <td>5</td>\n",
       "      <td>OO</td>\n",
       "      <td>5472</td>\n",
       "      <td>N976SW</td>\n",
       "      <td>SPI</td>\n",
       "      <td>ORD</td>\n",
       "      <td>1818</td>\n",
       "      <td>...</td>\n",
       "      <td>0</td>\n",
       "      <td>0</td>\n",
       "      <td>NaN</td>\n",
       "      <td>NaN</td>\n",
       "      <td>NaN</td>\n",
       "      <td>NaN</td>\n",
       "      <td>NaN</td>\n",
       "      <td>NaN</td>\n",
       "      <td></td>\n",
       "      <td></td>\n",
       "    </tr>\n",
       "  </tbody>\n",
       "</table>\n",
       "<p>5 rows × 33 columns</p>\n",
       "</div>"
      ],
      "text/plain": [
       "   YEAR  MONTH  DAY  DAY_OF_WEEK AIRLINE  FLIGHT_NUMBER TAIL_NUMBER  \\\n",
       "0  2015      8    6            4      F9           1389      N943FR   \n",
       "1  2015      5    7            4      B6            405      N779JB   \n",
       "2  2015      5    8            5      MQ           3416      N628MQ   \n",
       "3  2015     11   14            6      WN           2613      N8635F   \n",
       "4  2015      1   23            5      OO           5472      N976SW   \n",
       "\n",
       "  ORIGIN_AIRPORT DESTINATION_AIRPORT  SCHEDULED_DEPARTURE     ...       \\\n",
       "0            CLE                 RSW                 1630     ...        \n",
       "1            BOS                 LGB                 1720     ...        \n",
       "2            DFW                 BRO                 1532     ...        \n",
       "3            OAK                 PHX                 2005     ...        \n",
       "4            SPI                 ORD                 1818     ...        \n",
       "\n",
       "   DIVERTED  CANCELLED  CANCELLATION_REASON  AIR_SYSTEM_DELAY  SECURITY_DELAY  \\\n",
       "0         0          0                  NaN              42.0             0.0   \n",
       "1         0          0                  NaN               NaN             NaN   \n",
       "2         0          0                  NaN               NaN             NaN   \n",
       "3         0          0                  NaN               NaN             NaN   \n",
       "4         0          0                  NaN               NaN             NaN   \n",
       "\n",
       "   AIRLINE_DELAY  LATE_AIRCRAFT_DELAY  WEATHER_DELAY  DATE  ORIGIN_CITY  \n",
       "0           21.0                  3.0            0.0                     \n",
       "1            NaN                  NaN            NaN                     \n",
       "2            NaN                  NaN            NaN                     \n",
       "3            NaN                  NaN            NaN                     \n",
       "4            NaN                  NaN            NaN                     \n",
       "\n",
       "[5 rows x 33 columns]"
      ]
     },
     "execution_count": 4,
     "metadata": {},
     "output_type": "execute_result"
    }
   ],
   "source": [
    "# add column for the date\n",
    "flight_df['DATE'] = ''\n",
    "# columns for city name\n",
    "flight_df['ORIGIN_CITY'] = ''\n",
    "flight_df.head()"
   ]
  },
  {
   "cell_type": "code",
   "execution_count": 5,
   "metadata": {
    "collapsed": true
   },
   "outputs": [],
   "source": [
    "# turn the airport_data json into a dictionary of airport code and city\n",
    "airport_city_code = {}\n",
    "for key in airport_data:\n",
    "    airport_city_code[key['code']] = key['city']"
   ]
  },
  {
   "cell_type": "code",
   "execution_count": 6,
   "metadata": {
    "collapsed": true
   },
   "outputs": [],
   "source": [
    "#create a function to return the airport city name based off airport code\n",
    "def get_city_from(airport_code):\n",
    "    return airport_city_code.get(airport_code, \"N/A\")"
   ]
  },
  {
   "cell_type": "code",
   "execution_count": 7,
   "metadata": {
    "collapsed": true
   },
   "outputs": [],
   "source": [
    "# apply the get city function to the flight df\n",
    "flight_df['ORIGIN_CITY'] = flight_df['ORIGIN_AIRPORT'].apply(get_city_from)"
   ]
  },
  {
   "cell_type": "code",
   "execution_count": 8,
   "metadata": {},
   "outputs": [],
   "source": [
    "# get average stats for each airline\n",
    "avg_airline_stats_df = flight_df.groupby('AIRLINE').mean()"
   ]
  },
  {
   "cell_type": "code",
   "execution_count": 9,
   "metadata": {},
   "outputs": [],
   "source": [
    "# get only the ARRIVAL_DELAY column since that is all that is analyzed\n",
    "avg_airline_stats_df = avg_airline_stats_df['ARRIVAL_DELAY']"
   ]
  },
  {
   "cell_type": "code",
   "execution_count": 10,
   "metadata": {},
   "outputs": [
    {
     "data": {
      "text/plain": [
       "AIRLINE\n",
       "AA     3.487575\n",
       "AS    -0.624533\n",
       "B6     7.530677\n",
       "DL    -0.518345\n",
       "EV     5.737621\n",
       "F9    13.617666\n",
       "HA     3.022364\n",
       "MQ     5.436596\n",
       "NK    13.536943\n",
       "OO     5.723795\n",
       "UA     5.097633\n",
       "US     4.058160\n",
       "VX     3.549749\n",
       "WN     4.541312\n",
       "Name: ARRIVAL_DELAY, dtype: float64"
      ]
     },
     "execution_count": 10,
     "metadata": {},
     "output_type": "execute_result"
    }
   ],
   "source": [
    "avg_airline_stats_df"
   ]
  },
  {
   "cell_type": "code",
   "execution_count": 11,
   "metadata": {
    "collapsed": true
   },
   "outputs": [],
   "source": [
    "# get x and y values\n",
    "x = avg_airline_stats_df.index\n",
    "x_ticks = x.values\n",
    "x = np.arange(0,len(x_ticks))\n",
    "y = avg_airline_stats_df.values"
   ]
  },
  {
   "cell_type": "code",
   "execution_count": 12,
   "metadata": {
    "scrolled": true
   },
   "outputs": [
    {
     "data": {
      "image/png": "[encoded data removed]",
      "text/plain": [
       "<matplotlib.figure.Figure at 0x1122e9ba8>"
      ]
     },
     "metadata": {},
     "output_type": "display_data"
    }
   ],
   "source": [
    "# create bar chart of delays by airline. \n",
    "plt.xticks(x, x_ticks)\n",
    "chart = plt.bar(x, y)\n",
    "plt.title(\"Average Delay by Airline in 2015\")\n",
    "plt.xlabel(\"Airline\")\n",
    "plt.ylabel(\"Average Arrival Delay (Minutes)\")\n",
    "chart[1].set_color('g')\n",
    "chart[5].set_color('r')\n",
    "plt.savefig('Images/Arrival_Delay_by_airline.png')\n",
    "plt.show()"
   ]
  },
  {
   "cell_type": "code",
   "execution_count": 13,
   "metadata": {},
   "outputs": [
    {
     "data": {
      "text/plain": [
       "AIRLINE\n",
       "AA    12619\n",
       "AS     2965\n",
       "B6     4510\n",
       "DL    15006\n",
       "EV     9826\n",
       "F9     1595\n",
       "HA     1256\n",
       "MQ     5108\n",
       "NK     2018\n",
       "OO     9946\n",
       "UA     8955\n",
       "US     3446\n",
       "VX     1004\n",
       "WN    21746\n",
       "Name: YEAR, dtype: int64"
      ]
     },
     "execution_count": 13,
     "metadata": {},
     "output_type": "execute_result"
    }
   ],
   "source": [
    "# get total stats for each airline\n",
    "total_airline_stats_df = flight_df.groupby('AIRLINE').count()\n",
    "# get total number of flights for each airline\n",
    "total_flights = total_airline_stats_df['YEAR']\n",
    "total_flights"
   ]
  },
  {
   "cell_type": "code",
   "execution_count": 14,
   "metadata": {
    "collapsed": true
   },
   "outputs": [],
   "source": [
    "# get x and y values\n",
    "x = total_flights.index\n",
    "x_ticks = x.values\n",
    "x = np.arange(0,len(x_ticks))\n",
    "y = total_flights.values"
   ]
  },
  {
   "cell_type": "code",
   "execution_count": 15,
   "metadata": {},
   "outputs": [
    {
     "data": {
      "image/png": "[encoded data removed]",
      "text/plain": [
       "<matplotlib.figure.Figure at 0x112b96d30>"
      ]
     },
     "metadata": {},
     "output_type": "display_data"
    }
   ],
   "source": [
    "# create bar chart of # of flights by airline. \n",
    "plt.xticks(x, x_ticks)\n",
    "chart = plt.bar(x, y)\n",
    "plt.title(\"Total Flights by Airline in 2015\")\n",
    "plt.xlabel(\"Airline\")\n",
    "plt.ylabel(\"# of Flights\")\n",
    "chart[13].set_color('g')\n",
    "chart[12].set_color('r')\n",
    "plt.savefig('Images/total_flights_by_airline.png')\n",
    "plt.show()"
   ]
  },
  {
   "cell_type": "code",
   "execution_count": 16,
   "metadata": {
    "scrolled": true
   },
   "outputs": [
    {
     "data": {
      "text/plain": [
       "MONTH\n",
       "1     5.970380\n",
       "2     7.993939\n",
       "3     4.316961\n",
       "4     2.503926\n",
       "5     3.973911\n",
       "6     9.722158\n",
       "7     6.482212\n",
       "8     4.377013\n",
       "9    -0.934358\n",
       "10   -0.376257\n",
       "11    0.591483\n",
       "12    6.158690\n",
       "Name: ARRIVAL_DELAY, dtype: float64"
      ]
     },
     "execution_count": 16,
     "metadata": {},
     "output_type": "execute_result"
    }
   ],
   "source": [
    "# get average stats for each month\n",
    "avg_month_stats_df = flight_df.groupby('MONTH').mean()\n",
    "avg_month_stats_df = avg_month_stats_df['ARRIVAL_DELAY']\n",
    "avg_month_stats_df"
   ]
  },
  {
   "cell_type": "code",
   "execution_count": 17,
   "metadata": {},
   "outputs": [],
   "source": [
    "# get x and y values\n",
    "month = ['Jan', 'Feb', 'Mar', 'Apr', 'May', 'June', 'July', 'Aug', 'Sep', 'Oct', 'Nov', 'Dec']\n",
    "x = np.arange(0,len(month))\n",
    "y = avg_month_stats_df.values"
   ]
  },
  {
   "cell_type": "code",
   "execution_count": 18,
   "metadata": {},
   "outputs": [
    {
     "data": {
      "image/png": "[encoded data removed]",
      "text/plain": [
       "<matplotlib.figure.Figure at 0x113cdb978>"
      ]
     },
     "metadata": {},
     "output_type": "display_data"
    }
   ],
   "source": [
    "# create bar chart of average delays by month. \n",
    "plt.xticks(x, month)\n",
    "chart = plt.bar(x, y)\n",
    "plt.title(\"Average Arrival Delay by Month in 2015\")\n",
    "plt.xlabel(\"Month\")\n",
    "plt.ylabel(\"Average Arrival Delay (Minutes)\")\n",
    "chart[8].set_color('g')\n",
    "chart[5].set_color('r')\n",
    "plt.savefig('Images/Arrival_delay_by_month.png')\n",
    "plt.show()"
   ]
  },
  {
   "cell_type": "code",
   "execution_count": 19,
   "metadata": {},
   "outputs": [
    {
     "data": {
      "text/plain": [
       "MONTH\n",
       "1     7969\n",
       "2     7282\n",
       "3     8675\n",
       "4     8384\n",
       "5     8374\n",
       "6     8780\n",
       "7     8875\n",
       "8     8757\n",
       "9     7985\n",
       "10    8413\n",
       "11    8009\n",
       "12    8497\n",
       "Name: AIRLINE, dtype: int64"
      ]
     },
     "execution_count": 19,
     "metadata": {},
     "output_type": "execute_result"
    }
   ],
   "source": [
    "#count the flights per month to see peak demand\n",
    "month_stats_totals_df = flight_df.groupby('MONTH').count()\n",
    "# narrow it down to only the arline row because that row is always filled and therefore will always be counted\n",
    "month_stats_totals_df = month_stats_totals_df['AIRLINE']\n",
    "month_stats_totals_df"
   ]
  },
  {
   "cell_type": "code",
   "execution_count": 20,
   "metadata": {
    "collapsed": true
   },
   "outputs": [],
   "source": [
    "# get x and y values\n",
    "month = ['Jan', 'Feb', 'Mar', 'Apr', 'May', 'June', 'July', 'Aug', 'Sep', 'Oct', 'Nov', 'Dec']\n",
    "x = np.arange(0,len(month))\n",
    "y = month_stats_totals_df.values"
   ]
  },
  {
   "cell_type": "code",
   "execution_count": 21,
   "metadata": {},
   "outputs": [
    {
     "data": {
      "image/png": "[encoded data removed]",
      "text/plain": [
       "<matplotlib.figure.Figure at 0x112c36908>"
      ]
     },
     "metadata": {},
     "output_type": "display_data"
    }
   ],
   "source": [
    "# create bar chart of total flights by month. \n",
    "plt.xticks(x, month)\n",
    "chart = plt.bar(x, y)\n",
    "plt.title(\"# of Flights by Month in 2015\")\n",
    "plt.xlabel(\"Month\")\n",
    "plt.ylabel(\"# of Flights\")\n",
    "chart[6].set_color('g')\n",
    "chart[1].set_color('r')\n",
    "axes = plt.gca()\n",
    "axes.set_ylim([6000,9500])\n",
    "plt.savefig('Images/flights_by_month.png')\n",
    "plt.show()"
   ]
  },
  {
   "cell_type": "code",
   "execution_count": 22,
   "metadata": {},
   "outputs": [
    {
     "data": {
      "text/plain": [
       "DAY_OF_WEEK\n",
       "1    5.916568\n",
       "2    3.897130\n",
       "3    3.661053\n",
       "4    5.492151\n",
       "5    4.944630\n",
       "6    1.779753\n",
       "7    3.427494\n",
       "Name: ARRIVAL_DELAY, dtype: float64"
      ]
     },
     "execution_count": 22,
     "metadata": {},
     "output_type": "execute_result"
    }
   ],
   "source": [
    "# get average stats for each day of week\n",
    "avg_day_stats_df = flight_df.groupby('DAY_OF_WEEK').mean()\n",
    "avg_day_stats_df = avg_day_stats_df['ARRIVAL_DELAY']\n",
    "avg_day_stats_df"
   ]
  },
  {
   "cell_type": "code",
   "execution_count": 23,
   "metadata": {
    "collapsed": true
   },
   "outputs": [],
   "source": [
    "# get x and y values\n",
    "day_of_week = ['MON', 'TUE', 'WED', 'THU', 'FRI', 'SAT', 'SUN']\n",
    "x = np.arange(0,len(day_of_week))\n",
    "y = avg_day_stats_df.values"
   ]
  },
  {
   "cell_type": "code",
   "execution_count": 24,
   "metadata": {},
   "outputs": [
    {
     "data": {
      "image/png": "[encoded data removed]",
      "text/plain": [
       "<matplotlib.figure.Figure at 0x113cb9ba8>"
      ]
     },
     "metadata": {},
     "output_type": "display_data"
    }
   ],
   "source": [
    "# create bar chart for average arrival delay for each day of week\n",
    "plt.xticks(x, day_of_week)\n",
    "chart = plt.bar(x, y)\n",
    "plt.title(\"Average Arrival Delay by Day of Week in 2015\")\n",
    "plt.xlabel(\"Day of Week\")\n",
    "plt.ylabel(\"Average Arrival Delay (Minutes)\")\n",
    "chart[5].set_color('g')\n",
    "chart[0].set_color('r')\n",
    "plt.savefig('Images/avg_delay_by_day_of_week.png')\n",
    "plt.show()"
   ]
  },
  {
   "cell_type": "code",
   "execution_count": 25,
   "metadata": {},
   "outputs": [],
   "source": [
    "#Subsetting the data to 10 airports with the most traffic\n",
    "pop_airport_flight_df = flight_df.loc[(flight_df['ORIGIN_AIRPORT'] == 'ATL') | (flight_df['ORIGIN_AIRPORT'] == 'LAX') | \n",
    "                           (flight_df['ORIGIN_AIRPORT'] == 'ORD') | (flight_df['ORIGIN_AIRPORT'] == 'DFW') |\n",
    "                           (flight_df['ORIGIN_AIRPORT'] == 'JFK') | (flight_df['ORIGIN_AIRPORT'] == 'DEN') |\n",
    "                           (flight_df['ORIGIN_AIRPORT'] == 'SFO') | (flight_df['ORIGIN_AIRPORT'] == 'LAS') |\n",
    "                           (flight_df['ORIGIN_AIRPORT'] == 'CLT') | (flight_df['ORIGIN_AIRPORT'] == 'SEA')]"
   ]
  },
  {
   "cell_type": "code",
   "execution_count": 26,
   "metadata": {},
   "outputs": [
    {
     "data": {
      "text/plain": [
       "ORIGIN_CITY\n",
       "Atlanta          1.836744\n",
       "Charlotte        4.010926\n",
       "Chicago          8.013762\n",
       "Dallas           6.343409\n",
       "Denver           6.628857\n",
       "Jamaica          3.994118\n",
       "Las Vegas        6.482057\n",
       "Los Angeles      5.723887\n",
       "San Francisco    5.026240\n",
       "Seattle          1.876279\n",
       "Name: ARRIVAL_DELAY, dtype: float64"
      ]
     },
     "execution_count": 26,
     "metadata": {},
     "output_type": "execute_result"
    }
   ],
   "source": [
    "avg_airport_stats_df = pop_airport_flight_df.groupby('ORIGIN_CITY').mean()\n",
    "avg_airport_stats_df = avg_airport_stats_df['ARRIVAL_DELAY']\n",
    "avg_airport_stats_df"
   ]
  },
  {
   "cell_type": "code",
   "execution_count": 27,
   "metadata": {
    "collapsed": true
   },
   "outputs": [],
   "source": [
    "# get x and y values\n",
    "x = avg_airport_stats_df.index\n",
    "x_ticks = ['ATL', 'CLT', 'ORD', 'DFW', 'DEN', 'JFK', 'LAS', 'LAX', 'SFO', 'SEA']\n",
    "x = np.arange(0,len(x_ticks))\n",
    "y = avg_airport_stats_df.values"
   ]
  },
  {
   "cell_type": "code",
   "execution_count": 28,
   "metadata": {},
   "outputs": [
    {
     "data": {
      "image/png": "[encoded data removed]",
      "text/plain": [
       "<matplotlib.figure.Figure at 0x112c0eda0>"
      ]
     },
     "metadata": {},
     "output_type": "display_data"
    }
   ],
   "source": [
    "# create bar chart for average arrival delay by origin airport\n",
    "plt.xticks(x, x_ticks)\n",
    "chart = plt.bar(x, y)\n",
    "plt.title(\"Average Arrial Delay by Origin Airport in 2015\")\n",
    "plt.xlabel(\"Origin Airport\")\n",
    "plt.ylabel(\"Average Arrival Delay (Minutes)\")\n",
    "chart[0].set_color('g')\n",
    "chart[2].set_color('r')\n",
    "plt.savefig('Images/arrival_delay_by_airport.png')\n",
    "plt.show()"
   ]
  },
  {
   "cell_type": "code",
   "execution_count": 29,
   "metadata": {},
   "outputs": [
    {
     "data": {
      "text/plain": [
       "ORIGIN_CITY\n",
       "Atlanta          6622\n",
       "Charlotte        1955\n",
       "Chicago          5312\n",
       "Dallas           4432\n",
       "Denver           3644\n",
       "Jamaica          1734\n",
       "Las Vegas        2541\n",
       "Los Angeles      3622\n",
       "San Francisco    2847\n",
       "Seattle          2067\n",
       "Name: YEAR, dtype: int64"
      ]
     },
     "execution_count": 29,
     "metadata": {},
     "output_type": "execute_result"
    }
   ],
   "source": [
    "# get total flights by origin airport\n",
    "total_airport_stats_df = pop_airport_flight_df.groupby('ORIGIN_CITY').count()\n",
    "popular_airport_flights = total_airport_stats_df['YEAR']\n",
    "popular_airport_flights"
   ]
  },
  {
   "cell_type": "code",
   "execution_count": 30,
   "metadata": {
    "collapsed": true
   },
   "outputs": [],
   "source": [
    "x = np.arange(0,len(x_ticks))\n",
    "y = popular_airport_flights.values"
   ]
  },
  {
   "cell_type": "code",
   "execution_count": 31,
   "metadata": {},
   "outputs": [
    {
     "data": {
      "image/png": "[encoded data removed]",
      "text/plain": [
       "<matplotlib.figure.Figure at 0x112c0e9b0>"
      ]
     },
     "metadata": {},
     "output_type": "display_data"
    }
   ],
   "source": [
    "# create bar chart for total flights by origin airport\n",
    "plt.xticks(x, x_ticks)\n",
    "chart = plt.bar(x, y)\n",
    "plt.title(\"Total Flights by Origin Airport in 2015\")\n",
    "plt.xlabel(\"Origin Airport\")\n",
    "plt.ylabel(\"Total Flights\")\n",
    "chart[0].set_color('g')\n",
    "chart[5].set_color('r')\n",
    "plt.savefig('Images/total_flights_by_airport.png')\n",
    "plt.show()"
   ]
  },
  {
   "cell_type": "code",
   "execution_count": null,
   "metadata": {
    "collapsed": true
   },
   "outputs": [],
   "source": []
  }
 ],
 "metadata": {
  "kernelspec": {
   "display_name": "Python 3",
   "language": "python",
   "name": "python3"
  },
  "language_info": {
   "codemirror_mode": {
    "name": "ipython",
    "version": 3
   },
   "file_extension": ".py",
   "mimetype": "text/x-python",
   "name": "python",
   "nbconvert_exporter": "python",
   "pygments_lexer": "ipython3",
   "version": "3.6.1"
  }
 },
 "nbformat": 4,
 "nbformat_minor": 2
}
