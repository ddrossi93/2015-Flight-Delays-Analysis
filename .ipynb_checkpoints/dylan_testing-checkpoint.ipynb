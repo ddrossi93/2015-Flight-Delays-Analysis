{
 "cells": [
  {
   "cell_type": "code",
   "execution_count": 1,
   "metadata": {
    "collapsed": true
   },
   "outputs": [],
   "source": [
    "# import dependencies\n",
    "import os\n",
    "import matplotlib.pyplot as plt\n",
    "from matplotlib import cm\n",
    "import pandas as pd\n",
    "import numpy as np\n",
    "import time\n",
    "import datetime\n",
    "import json\n",
    "import requests as req\n",
    "from citipy import citipy\n",
    "from itertools import cycle, islice"
   ]
  },
  {
   "cell_type": "code",
   "execution_count": 2,
   "metadata": {
    "collapsed": true,
    "scrolled": true
   },
   "outputs": [],
   "source": [
    "# get dataset, created a smaller random sample of dataset called 'flights_smaller.csv that has 100,000 rows\n",
    "flights_dataset_path = os.path.join('Data', 'flights_smaller.csv')\n",
    "airlines_dataset_path = os.path.join('Data', 'airlines.csv')\n",
    "dataset = pd.read_csv(flights_dataset_path)\n",
    "airport_data = json.load(open('Data/airports.json', 'r'))\n",
    "airlines = pd.read_csv(airlines_dataset_path)"
   ]
  },
  {
   "cell_type": "code",
   "execution_count": 4,
   "metadata": {},
   "outputs": [
    {
     "data": {
      "text/plain": [
       "Series([], Name: MONTH, dtype: int64)"
      ]
     },
     "execution_count": 4,
     "metadata": {},
     "output_type": "execute_result"
    }
   ],
   "source": [
    "# convert to dataframe\n",
    "flight_df = pd.DataFrame(dataset)\n",
    "airlines_df = pd.DataFrame(airlines)\n",
    "#Subset the data to airports with the most traffic(ATL, LAX, ORD, DFW, JFK, DEN, SFO, LAS, CLT, SEA airports)\n",
    "flight_df = flight_df.loc[(flight_df['ORIGIN_AIRPORT'] == 'ATL') | (flight_df['ORIGIN_AIRPORT'] == 'LAX') | \n",
    "                           (flight_df['ORIGIN_AIRPORT'] == 'ORD') | (flight_df['ORIGIN_AIRPORT'] == 'DFW') |\n",
    "                           (flight_df['ORIGIN_AIRPORT'] == 'JFK') | (flight_df['ORIGIN_AIRPORT'] == 'DEN') |\n",
    "                           (flight_df['ORIGIN_AIRPORT'] == 'SFO') | (flight_df['ORIGIN_AIRPORT'] == 'LAS') |\n",
    "                           (flight_df['ORIGIN_AIRPORT'] == 'CLT') | (flight_df['ORIGIN_AIRPORT'] == 'SEA')]"
   ]
  },
  {
   "cell_type": "code",
   "execution_count": null,
   "metadata": {},
   "outputs": [],
   "source": [
    "# add delayed column to show if flight was delayed (1) or not (0)\n",
    "flight_df['DELAYED'] = ''\n",
    "flight_df['AIRLINE_NAME'] = ''\n",
    "# add column for the date\n",
    "flight_df['DATE'] = ''\n",
    "# create column for unix timestamp\n",
    "flight_df['UNIX_TIME'] = ''\n",
    "# columns for lat and lon\n",
    "flight_df['ORIGIN_LAT'] = ''\n",
    "flight_df['ORIGIN_LON'] = ''\n",
    "flight_df['ORIGIN_CITY'] = ''\n",
    "flight_df['DEST_LAT'] = ''\n",
    "flight_df['DEST_LON'] = ''\n",
    "flight_df['DEST_CITY'] = ''\n",
    "flight_df.head()"
   ]
  },
  {
   "cell_type": "code",
   "execution_count": null,
   "metadata": {
    "collapsed": true
   },
   "outputs": [],
   "source": [
    "# set Delayed column if flight was delayed\n",
    "for index, row in flight_df.head(30).iterrows():\n",
    "    # TODO: check if other columns are also null\n",
    "    if(pd.isnull(row['AIR_SYSTEM_DELAY']) == False):\n",
    "        flight_df.set_value(index, 'DELAYED', 1)\n",
    "    \n",
    "    date = str(row['MONTH']) + '/' + str(row['DAY']) + '/' + str(row['YEAR'])\n",
    "    \n",
    "    flight_df.set_value(index, 'DATE', date)"
   ]
  },
  {
   "cell_type": "code",
   "execution_count": null,
   "metadata": {
    "collapsed": true
   },
   "outputs": [],
   "source": [
    "for index, row in flight_df.head(30).iterrows():\n",
    "    unix_time = time.mktime(datetime.datetime.strptime(row['DATE'], \"%m/%d/%Y\").timetuple())\n",
    "    \n",
    "    flight_df.set_value(index, 'UNIX_TIME', int(unix_time))"
   ]
  },
  {
   "cell_type": "code",
   "execution_count": null,
   "metadata": {},
   "outputs": [],
   "source": [
    "flight_df.head()"
   ]
  },
  {
   "cell_type": "code",
   "execution_count": null,
   "metadata": {
    "collapsed": true
   },
   "outputs": [],
   "source": [
    "# get average stats for each airline\n",
    "avg_airline_stats_df = flight_df.groupby('AIRLINE').mean()"
   ]
  },
  {
   "cell_type": "code",
   "execution_count": null,
   "metadata": {
    "collapsed": true
   },
   "outputs": [],
   "source": [
    "# remove unecessary columns that don't need averaged\n",
    "avg_airline_stats_df.drop(['YEAR', 'MONTH', 'DAY', 'DAY_OF_WEEK', 'FLIGHT_NUMBER', 'SCHEDULED_DEPARTURE', 'DEPARTURE_TIME', 'WHEELS_OFF', 'SCHEDULED_TIME', 'WHEELS_ON', 'SCHEDULED_ARRIVAL', 'ARRIVAL_TIME', 'DIVERTED', 'CANCELLED'], axis=1, inplace=True)"
   ]
  },
  {
   "cell_type": "code",
   "execution_count": null,
   "metadata": {},
   "outputs": [],
   "source": [
    "# sort by the average arrival delay from longest avg delay to shortest avg delay\n",
    "avg_airline_stats_df.reset_index(level=0, inplace=True)\n",
    "avg_airline_stats_df.sort_values('ARRIVAL_DELAY', ascending=False)"
   ]
  },
  {
   "cell_type": "code",
   "execution_count": null,
   "metadata": {
    "scrolled": true
   },
   "outputs": [],
   "source": [
    "#bar chart of delays by airline.  TODO: creat a color for each and \n",
    "avg_airline_stats_df.plot(x = 'AIRLINE', y = 'ARRIVAL_DELAY', kind='bar', figsize = (12,4), legend=False)\n",
    "plt.title(\"Average delay by airline in 2015\")\n",
    "plt.xlabel(\"Airline\")\n",
    "plt.ylabel(\"Average Delay\")\n",
    "plt.show()"
   ]
  },
  {
   "cell_type": "code",
   "execution_count": null,
   "metadata": {
    "scrolled": true
   },
   "outputs": [],
   "source": [
    "# get average stats for each month\n",
    "avg_month_stats_df = flight_df.groupby('MONTH').mean()\n",
    "avg_month_stats_df.drop(['YEAR', 'DAY', 'DAY_OF_WEEK', 'FLIGHT_NUMBER', 'SCHEDULED_DEPARTURE', 'DEPARTURE_TIME', 'WHEELS_OFF', 'SCHEDULED_TIME', 'WHEELS_ON', 'SCHEDULED_ARRIVAL', 'ARRIVAL_TIME', 'DIVERTED', 'CANCELLED'], axis=1, inplace=True)\n",
    "avg_month_stats_df.reset_index(level=0, inplace=True)\n",
    "avg_month_stats_df.sort_values('MONTH', ascending=True)"
   ]
  },
  {
   "cell_type": "code",
   "execution_count": null,
   "metadata": {},
   "outputs": [],
   "source": [
    "#bar chart of delays by month.  TODO: creat a color for each and figure out why october isnt in there\n",
    "avg_month_stats_df.plot(x = 'MONTH', y = 'ARRIVAL_DELAY', kind='bar', figsize = (12,4), legend=False)\n",
    "plt.title(\"Average delay by Month in 2015\")\n",
    "plt.xlabel(\"Month\")\n",
    "plt.ylabel(\"Average Delay\")\n",
    "plt.show()"
   ]
  },
  {
   "cell_type": "code",
   "execution_count": null,
   "metadata": {},
   "outputs": [],
   "source": [
    "# get average stats for each day\n",
    "avg_day_stats_df = flight_df.groupby('DAY_OF_WEEK').mean()\n",
    "avg_day_stats_df.drop(['YEAR', 'DAY', 'MONTH', 'FLIGHT_NUMBER', 'SCHEDULED_DEPARTURE', 'DEPARTURE_TIME', 'WHEELS_OFF', 'SCHEDULED_TIME', 'WHEELS_ON', 'SCHEDULED_ARRIVAL', 'ARRIVAL_TIME', 'DIVERTED', 'CANCELLED'], axis=1, inplace=True)\n",
    "avg_day_stats_df.reset_index(level=0, inplace=True)\n",
    "avg_day_stats_df.sort_values('DAY_OF_WEEK', ascending=False)"
   ]
  },
  {
   "cell_type": "code",
   "execution_count": null,
   "metadata": {},
   "outputs": [],
   "source": [
    "#bar chart of delays by month.  TODO: creat a color for each and \n",
    "avg_day_stats_df.plot(x = 'DAY_OF_WEEK', y = 'ARRIVAL_DELAY', kind='bar', figsize = (12,4), legend=False)\n",
    "plt.title(\"Average delay by Day in 2015\")\n",
    "plt.xlabel(\"Day\")\n",
    "plt.ylabel(\"Average Delay\")\n",
    "plt.show()"
   ]
  },
  {
   "cell_type": "code",
   "execution_count": null,
   "metadata": {},
   "outputs": [],
   "source": [
    "avg_airport_stats_df = flight_df.groupby('ORIGIN_AIRPORT').mean()\n",
    "avg_airport_stats_df.drop(['YEAR', 'DAY', 'MONTH', 'FLIGHT_NUMBER', 'SCHEDULED_DEPARTURE', 'DEPARTURE_TIME', 'WHEELS_OFF', 'SCHEDULED_TIME', 'WHEELS_ON', 'SCHEDULED_ARRIVAL', 'ARRIVAL_TIME', 'DIVERTED', 'CANCELLED'], axis=1, inplace=True)\n",
    "avg_airport_stats_df.reset_index(level=0, inplace=True)\n",
    "avg_airport_stats_df.sort_values('ORIGIN_AIRPORT', ascending=False)"
   ]
  },
  {
   "cell_type": "code",
   "execution_count": null,
   "metadata": {},
   "outputs": [],
   "source": [
    "#bar chart of delays by airport.  TODO: creat a color for each and \n",
    "avg_airport_stats_df.plot(x = 'ORIGIN_AIRPORT', y = 'ARRIVAL_DELAY', kind='bar', figsize = (12,4), legend=False)\n",
    "plt.title(\"Average delay by airport in 2015\")\n",
    "plt.xlabel(\"Airport\")\n",
    "plt.ylabel(\"Average Delay\")\n",
    "plt.show()"
   ]
  },
  {
   "cell_type": "code",
   "execution_count": null,
   "metadata": {
    "collapsed": true
   },
   "outputs": [],
   "source": [
    "# TODO: loop through all rows and get lat/lon\n",
    "# TODO: use this info to get the weather for that airport on that day\n",
    "# USE JSON TO GET CITY NAME, DONT NEED LAT & LON\n",
    "#for index, row in flight_df.iterrows():\n",
    "#    for key in airport_data:\n",
    "#        if key['code'] == row['ORIGIN_AIRPORT']:\n",
    "#            #city.append(key['city'])\n",
    "#            flight_df.loc[index, 'origin_city'] = key['city']\n",
    "#            break\n"
   ]
  },
  {
   "cell_type": "code",
   "execution_count": null,
   "metadata": {},
   "outputs": [],
   "source": [
    "airport_city_code = {}\n",
    "for key in airport_data:\n",
    "    airport_city_code[key['code']] = key['city']\n",
    "\n",
    "airport_city_code['JFK']"
   ]
  },
  {
   "cell_type": "code",
   "execution_count": null,
   "metadata": {},
   "outputs": [],
   "source": [
    "def get_city_from(airport_code):\n",
    "    return airport_city_code.get(airport_code, \"N/A\")\n",
    "\n",
    "flight_df['ORIGIN_AIRPORT'].head().apply(get_city_from)"
   ]
  },
  {
   "cell_type": "code",
   "execution_count": null,
   "metadata": {
    "collapsed": true
   },
   "outputs": [],
   "source": [
    "flight_df['origin_city'] = flight_df['ORIGIN_AIRPORT'].apply(get_city_from)"
   ]
  },
  {
   "cell_type": "code",
   "execution_count": null,
   "metadata": {},
   "outputs": [],
   "source": [
    "flight_df.head()"
   ]
  },
  {
   "cell_type": "code",
   "execution_count": null,
   "metadata": {},
   "outputs": [],
   "source": [
    "for index, row in flight_df.head(29).iterrows():\n",
    "    try:\n",
    "        origin_city = citipy.nearest_city(float(row['origin_lat']), float(row['origin_lon']))\n",
    "        dest_city = citipy.nearest_city(float(row['dest_lat']), float(row['dest_lon']))\n",
    "        flight_df.set_value(index, 'origin_city', origin_city.city_name)\n",
    "        flight_df.set_value(index, 'dest_city', dest_city.city_name)\n",
    "    except:\n",
    "        print('error at row ' + str(index))"
   ]
  },
  {
   "cell_type": "code",
   "execution_count": null,
   "metadata": {},
   "outputs": [],
   "source": [
    "flight_df.head()"
   ]
  },
  {
   "cell_type": "code",
   "execution_count": null,
   "metadata": {},
   "outputs": [],
   "source": [
    "cities.append(city.city_name)"
   ]
  },
  {
   "cell_type": "code",
   "execution_count": null,
   "metadata": {
    "collapsed": true
   },
   "outputs": [],
   "source": [
    "weather = req.get(weather_url).json()"
   ]
  },
  {
   "cell_type": "code",
   "execution_count": null,
   "metadata": {
    "collapsed": true
   },
   "outputs": [],
   "source": [
    "weather"
   ]
  },
  {
   "cell_type": "code",
   "execution_count": null,
   "metadata": {
    "collapsed": true
   },
   "outputs": [],
   "source": []
  }
 ],
 "metadata": {
  "kernelspec": {
   "display_name": "Python 3",
   "language": "python",
   "name": "python3"
  },
  "language_info": {
   "codemirror_mode": {
    "name": "ipython",
    "version": 3
   },
   "file_extension": ".py",
   "mimetype": "text/x-python",
   "name": "python",
   "nbconvert_exporter": "python",
   "pygments_lexer": "ipython3",
   "version": "3.6.1"
  }
 },
 "nbformat": 4,
 "nbformat_minor": 2
}
